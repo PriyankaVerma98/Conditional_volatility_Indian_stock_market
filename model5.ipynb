{
 "cells": [
  {
   "cell_type": "code",
   "execution_count": 1,
   "metadata": {},
   "outputs": [
    {
     "name": "stderr",
     "output_type": "stream",
     "text": [
      "Using TensorFlow backend.\n"
     ]
    }
   ],
   "source": [
    "import pandas as pd\n",
    "from sklearn .preprocessing import StandardScaler\n",
    "from sklearn.preprocessing import MinMaxScaler\n",
    "from keras.models import Sequential\n",
    "from keras.layers import Dense\n",
    "from keras.layers import Flatten\n",
    "from keras.layers import LSTM"
   ]
  },
  {
   "cell_type": "code",
   "execution_count": 2,
   "metadata": {},
   "outputs": [],
   "source": [
    "from math import sqrt\n",
    "from numpy import split\n",
    "from numpy import array\n",
    "from sklearn.metrics import mean_squared_error\n",
    "from matplotlib import pyplot\n",
    "from keras.layers import RepeatVector\n",
    "from keras.layers import TimeDistributed"
   ]
  },
  {
   "cell_type": "code",
   "execution_count": 3,
   "metadata": {},
   "outputs": [],
   "source": [
    "from matplotlib import pyplot as plt\n",
    "import numpy as np\n",
    "np.set_printoptions(suppress=True)\n",
    "import pandas as pd\n",
    "pd.options.display.float_format = '{:,.10f}'.format"
   ]
  },
  {
   "cell_type": "code",
   "execution_count": 4,
   "metadata": {},
   "outputs": [],
   "source": [
    "data  = pd.read_excel('emotion.xls').drop('Date', axis=1 ).set_index(\"day\")"
   ]
  },
  {
   "cell_type": "code",
   "execution_count": 5,
   "metadata": {},
   "outputs": [],
   "source": [
    "data = data.astype('float32')"
   ]
  },
  {
   "cell_type": "code",
   "execution_count": 6,
   "metadata": {},
   "outputs": [],
   "source": [
    "data_vol =  data.iloc[ : , 0:13].drop(['Close_nifty', 'Close_sensex','% change_nifty', '% change_sensex'], axis= 1)"
   ]
  },
  {
   "cell_type": "code",
   "execution_count": 7,
   "metadata": {},
   "outputs": [
    {
     "name": "stdout",
     "output_type": "stream",
     "text": [
      "<class 'pandas.core.frame.DataFrame'>\n",
      "DatetimeIndex: 3168 entries, 2007-04-19 to 2020-03-16\n",
      "Data columns (total 9 columns):\n",
      " #   Column                  Non-Null Count  Dtype  \n",
      "---  ------                  --------------  -----  \n",
      " 0   Anger                   3168 non-null   float32\n",
      " 1   Anticipation            3168 non-null   float32\n",
      " 2   Disgust                 3168 non-null   float32\n",
      " 3   Fear                    3168 non-null   float32\n",
      " 4   Joy                     3168 non-null   float32\n",
      " 5   Sadness                 3168 non-null   float32\n",
      " 6   Surprise                3168 non-null   float32\n",
      " 7   Trust                   3168 non-null   float32\n",
      " 8   Conditional Volatility  3168 non-null   float32\n",
      "dtypes: float32(9)\n",
      "memory usage: 136.1 KB\n"
     ]
    }
   ],
   "source": [
    "data_vol.info()"
   ]
  },
  {
   "cell_type": "code",
   "execution_count": 8,
   "metadata": {},
   "outputs": [
    {
     "data": {
      "text/html": [
       "<div>\n",
       "<style scoped>\n",
       "    .dataframe tbody tr th:only-of-type {\n",
       "        vertical-align: middle;\n",
       "    }\n",
       "\n",
       "    .dataframe tbody tr th {\n",
       "        vertical-align: top;\n",
       "    }\n",
       "\n",
       "    .dataframe thead th {\n",
       "        text-align: right;\n",
       "    }\n",
       "</style>\n",
       "<table border=\"1\" class=\"dataframe\">\n",
       "  <thead>\n",
       "    <tr style=\"text-align: right;\">\n",
       "      <th></th>\n",
       "      <th>Anger</th>\n",
       "      <th>Anticipation</th>\n",
       "      <th>Disgust</th>\n",
       "      <th>Fear</th>\n",
       "      <th>Joy</th>\n",
       "      <th>Sadness</th>\n",
       "      <th>Surprise</th>\n",
       "      <th>Trust</th>\n",
       "      <th>Conditional Volatility</th>\n",
       "    </tr>\n",
       "    <tr>\n",
       "      <th>day</th>\n",
       "      <th></th>\n",
       "      <th></th>\n",
       "      <th></th>\n",
       "      <th></th>\n",
       "      <th></th>\n",
       "      <th></th>\n",
       "      <th></th>\n",
       "      <th></th>\n",
       "      <th></th>\n",
       "    </tr>\n",
       "  </thead>\n",
       "  <tbody>\n",
       "    <tr>\n",
       "      <th>2007-04-19</th>\n",
       "      <td>0.5000000000</td>\n",
       "      <td>2.2100000381</td>\n",
       "      <td>0.0000000000</td>\n",
       "      <td>1.5160000324</td>\n",
       "      <td>0.8130000234</td>\n",
       "      <td>0.4309999943</td>\n",
       "      <td>0.0000000000</td>\n",
       "      <td>1.0470000505</td>\n",
       "      <td>1.9240180254</td>\n",
       "    </tr>\n",
       "    <tr>\n",
       "      <th>2007-04-23</th>\n",
       "      <td>0.4850000143</td>\n",
       "      <td>1.3819999695</td>\n",
       "      <td>0.0000000000</td>\n",
       "      <td>0.5780000091</td>\n",
       "      <td>1.0479999781</td>\n",
       "      <td>2.6700000763</td>\n",
       "      <td>0.0000000000</td>\n",
       "      <td>1.1720000505</td>\n",
       "      <td>1.9290779829</td>\n",
       "    </tr>\n",
       "    <tr>\n",
       "      <th>2007-04-30</th>\n",
       "      <td>0.0000000000</td>\n",
       "      <td>2.7019999027</td>\n",
       "      <td>0.0000000000</td>\n",
       "      <td>0.2969999909</td>\n",
       "      <td>1.6189999580</td>\n",
       "      <td>0.0000000000</td>\n",
       "      <td>0.0000000000</td>\n",
       "      <td>1.6410000324</td>\n",
       "      <td>2.1650118828</td>\n",
       "    </tr>\n",
       "    <tr>\n",
       "      <th>2007-05-07</th>\n",
       "      <td>0.5310000181</td>\n",
       "      <td>3.1619999409</td>\n",
       "      <td>0.0000000000</td>\n",
       "      <td>0.2969999909</td>\n",
       "      <td>2.6429998875</td>\n",
       "      <td>0.2029999942</td>\n",
       "      <td>0.3670000136</td>\n",
       "      <td>3.5710000992</td>\n",
       "      <td>2.0097639561</td>\n",
       "    </tr>\n",
       "    <tr>\n",
       "      <th>2007-05-08</th>\n",
       "      <td>0.0000000000</td>\n",
       "      <td>1.0069999695</td>\n",
       "      <td>0.0000000000</td>\n",
       "      <td>0.0000000000</td>\n",
       "      <td>0.8930000067</td>\n",
       "      <td>0.0000000000</td>\n",
       "      <td>0.0000000000</td>\n",
       "      <td>1.0470000505</td>\n",
       "      <td>1.8497519493</td>\n",
       "    </tr>\n",
       "  </tbody>\n",
       "</table>\n",
       "</div>"
      ],
      "text/plain": [
       "                  Anger  Anticipation      Disgust         Fear          Joy  \\\n",
       "day                                                                            \n",
       "2007-04-19 0.5000000000  2.2100000381 0.0000000000 1.5160000324 0.8130000234   \n",
       "2007-04-23 0.4850000143  1.3819999695 0.0000000000 0.5780000091 1.0479999781   \n",
       "2007-04-30 0.0000000000  2.7019999027 0.0000000000 0.2969999909 1.6189999580   \n",
       "2007-05-07 0.5310000181  3.1619999409 0.0000000000 0.2969999909 2.6429998875   \n",
       "2007-05-08 0.0000000000  1.0069999695 0.0000000000 0.0000000000 0.8930000067   \n",
       "\n",
       "                Sadness     Surprise        Trust  Conditional Volatility  \n",
       "day                                                                        \n",
       "2007-04-19 0.4309999943 0.0000000000 1.0470000505            1.9240180254  \n",
       "2007-04-23 2.6700000763 0.0000000000 1.1720000505            1.9290779829  \n",
       "2007-04-30 0.0000000000 0.0000000000 1.6410000324            2.1650118828  \n",
       "2007-05-07 0.2029999942 0.3670000136 3.5710000992            2.0097639561  \n",
       "2007-05-08 0.0000000000 0.0000000000 1.0470000505            1.8497519493  "
      ]
     },
     "execution_count": 8,
     "metadata": {},
     "output_type": "execute_result"
    }
   ],
   "source": [
    "data_vol.head()"
   ]
  },
  {
   "cell_type": "markdown",
   "metadata": {},
   "source": [
    "## Train the Model"
   ]
  },
  {
   "cell_type": "code",
   "execution_count": 121,
   "metadata": {},
   "outputs": [],
   "source": [
    "# def split_dataset(data):\n",
    "# \t# split into  months\n",
    "#     train, test = data[0:3138], data[3138:3168]\n",
    "# \t# restructure into windows of monthly data\n",
    "#     train = array(split(train, len(train)/30))\n",
    "#     test = array(split(test, len(test)/30))\n",
    "#     return train, test"
   ]
  },
  {
   "cell_type": "code",
   "execution_count": 17,
   "metadata": {},
   "outputs": [],
   "source": [
    "yscaler = MinMaxScaler()\n",
    "df = pd.DataFrame(data_vol.iloc[18:3138, 8])\n",
    "df = pd.DataFrame(yscaler.fit_transform(df), columns=df.columns, index=df.index)"
   ]
  },
  {
   "cell_type": "code",
   "execution_count": 19,
   "metadata": {},
   "outputs": [
    {
     "data": {
      "text/html": [
       "<div>\n",
       "<style scoped>\n",
       "    .dataframe tbody tr th:only-of-type {\n",
       "        vertical-align: middle;\n",
       "    }\n",
       "\n",
       "    .dataframe tbody tr th {\n",
       "        vertical-align: top;\n",
       "    }\n",
       "\n",
       "    .dataframe thead th {\n",
       "        text-align: right;\n",
       "    }\n",
       "</style>\n",
       "<table border=\"1\" class=\"dataframe\">\n",
       "  <thead>\n",
       "    <tr style=\"text-align: right;\">\n",
       "      <th></th>\n",
       "      <th>Conditional Volatility</th>\n",
       "    </tr>\n",
       "  </thead>\n",
       "  <tbody>\n",
       "    <tr>\n",
       "      <th>count</th>\n",
       "      <td>3,120.0000000000</td>\n",
       "    </tr>\n",
       "    <tr>\n",
       "      <th>mean</th>\n",
       "      <td>0.0627599508</td>\n",
       "    </tr>\n",
       "    <tr>\n",
       "      <th>std</th>\n",
       "      <td>0.1095687598</td>\n",
       "    </tr>\n",
       "    <tr>\n",
       "      <th>min</th>\n",
       "      <td>0.0000000000</td>\n",
       "    </tr>\n",
       "    <tr>\n",
       "      <th>25%</th>\n",
       "      <td>0.0140771582</td>\n",
       "    </tr>\n",
       "    <tr>\n",
       "      <th>50%</th>\n",
       "      <td>0.0270586554</td>\n",
       "    </tr>\n",
       "    <tr>\n",
       "      <th>75%</th>\n",
       "      <td>0.0569391027</td>\n",
       "    </tr>\n",
       "    <tr>\n",
       "      <th>max</th>\n",
       "      <td>1.0000000000</td>\n",
       "    </tr>\n",
       "  </tbody>\n",
       "</table>\n",
       "</div>"
      ],
      "text/plain": [
       "       Conditional Volatility\n",
       "count        3,120.0000000000\n",
       "mean             0.0627599508\n",
       "std              0.1095687598\n",
       "min              0.0000000000\n",
       "25%              0.0140771582\n",
       "50%              0.0270586554\n",
       "75%              0.0569391027\n",
       "max              1.0000000000"
      ]
     },
     "execution_count": 19,
     "metadata": {},
     "output_type": "execute_result"
    }
   ],
   "source": [
    "df.describe()"
   ]
  },
  {
   "cell_type": "code",
   "execution_count": 20,
   "metadata": {},
   "outputs": [],
   "source": [
    "scaler = MinMaxScaler()\n",
    "train, test = data_vol[18:3138], data_vol[3138:3168]\n",
    "train = pd.DataFrame(scaler.fit_transform(train), columns=train.columns, index=train.index)"
   ]
  },
  {
   "cell_type": "code",
   "execution_count": 21,
   "metadata": {},
   "outputs": [
    {
     "data": {
      "text/html": [
       "<div>\n",
       "<style scoped>\n",
       "    .dataframe tbody tr th:only-of-type {\n",
       "        vertical-align: middle;\n",
       "    }\n",
       "\n",
       "    .dataframe tbody tr th {\n",
       "        vertical-align: top;\n",
       "    }\n",
       "\n",
       "    .dataframe thead th {\n",
       "        text-align: right;\n",
       "    }\n",
       "</style>\n",
       "<table border=\"1\" class=\"dataframe\">\n",
       "  <thead>\n",
       "    <tr style=\"text-align: right;\">\n",
       "      <th></th>\n",
       "      <th>Anger</th>\n",
       "      <th>Anticipation</th>\n",
       "      <th>Disgust</th>\n",
       "      <th>Fear</th>\n",
       "      <th>Joy</th>\n",
       "      <th>Sadness</th>\n",
       "      <th>Surprise</th>\n",
       "      <th>Trust</th>\n",
       "      <th>Conditional Volatility</th>\n",
       "    </tr>\n",
       "  </thead>\n",
       "  <tbody>\n",
       "    <tr>\n",
       "      <th>count</th>\n",
       "      <td>3,120.0000000000</td>\n",
       "      <td>3,120.0000000000</td>\n",
       "      <td>3,120.0000000000</td>\n",
       "      <td>3,120.0000000000</td>\n",
       "      <td>3,120.0000000000</td>\n",
       "      <td>3,120.0000000000</td>\n",
       "      <td>3,120.0000000000</td>\n",
       "      <td>3,120.0000000000</td>\n",
       "      <td>3,120.0000000000</td>\n",
       "    </tr>\n",
       "    <tr>\n",
       "      <th>mean</th>\n",
       "      <td>0.0667189583</td>\n",
       "      <td>0.1310477257</td>\n",
       "      <td>0.0656884834</td>\n",
       "      <td>0.0793018043</td>\n",
       "      <td>0.1180894151</td>\n",
       "      <td>0.1094094813</td>\n",
       "      <td>0.0957049057</td>\n",
       "      <td>0.0974604413</td>\n",
       "      <td>0.0627599508</td>\n",
       "    </tr>\n",
       "    <tr>\n",
       "      <th>std</th>\n",
       "      <td>0.1343169659</td>\n",
       "      <td>0.1967794001</td>\n",
       "      <td>0.1465145200</td>\n",
       "      <td>0.1510540098</td>\n",
       "      <td>0.1811063737</td>\n",
       "      <td>0.1672122926</td>\n",
       "      <td>0.1806580275</td>\n",
       "      <td>0.1728436798</td>\n",
       "      <td>0.1095687598</td>\n",
       "    </tr>\n",
       "    <tr>\n",
       "      <th>min</th>\n",
       "      <td>0.0000000000</td>\n",
       "      <td>0.0000000000</td>\n",
       "      <td>0.0000000000</td>\n",
       "      <td>0.0000000000</td>\n",
       "      <td>0.0000000000</td>\n",
       "      <td>0.0000000000</td>\n",
       "      <td>0.0000000000</td>\n",
       "      <td>0.0000000000</td>\n",
       "      <td>0.0000000000</td>\n",
       "    </tr>\n",
       "    <tr>\n",
       "      <th>25%</th>\n",
       "      <td>0.0102568883</td>\n",
       "      <td>0.0386259221</td>\n",
       "      <td>0.0000000000</td>\n",
       "      <td>0.0146211691</td>\n",
       "      <td>0.0332342461</td>\n",
       "      <td>0.0263262000</td>\n",
       "      <td>0.0130911404</td>\n",
       "      <td>0.0220476161</td>\n",
       "      <td>0.0140771582</td>\n",
       "    </tr>\n",
       "    <tr>\n",
       "      <th>50%</th>\n",
       "      <td>0.0205137767</td>\n",
       "      <td>0.0591193344</td>\n",
       "      <td>0.0147001697</td>\n",
       "      <td>0.0273765000</td>\n",
       "      <td>0.0526462533</td>\n",
       "      <td>0.0504153557</td>\n",
       "      <td>0.0318445377</td>\n",
       "      <td>0.0353673287</td>\n",
       "      <td>0.0270586554</td>\n",
       "    </tr>\n",
       "    <tr>\n",
       "      <th>75%</th>\n",
       "      <td>0.0390222305</td>\n",
       "      <td>0.1055044997</td>\n",
       "      <td>0.0361902015</td>\n",
       "      <td>0.0472020544</td>\n",
       "      <td>0.0934748799</td>\n",
       "      <td>0.0913505517</td>\n",
       "      <td>0.0642666277</td>\n",
       "      <td>0.0630328879</td>\n",
       "      <td>0.0569391027</td>\n",
       "    </tr>\n",
       "    <tr>\n",
       "      <th>max</th>\n",
       "      <td>0.9999999404</td>\n",
       "      <td>1.0000000000</td>\n",
       "      <td>1.0000000000</td>\n",
       "      <td>1.0000000000</td>\n",
       "      <td>1.0000000000</td>\n",
       "      <td>1.0000000000</td>\n",
       "      <td>1.0000000000</td>\n",
       "      <td>1.0000000000</td>\n",
       "      <td>1.0000000000</td>\n",
       "    </tr>\n",
       "  </tbody>\n",
       "</table>\n",
       "</div>"
      ],
      "text/plain": [
       "                 Anger     Anticipation          Disgust             Fear  \\\n",
       "count 3,120.0000000000 3,120.0000000000 3,120.0000000000 3,120.0000000000   \n",
       "mean      0.0667189583     0.1310477257     0.0656884834     0.0793018043   \n",
       "std       0.1343169659     0.1967794001     0.1465145200     0.1510540098   \n",
       "min       0.0000000000     0.0000000000     0.0000000000     0.0000000000   \n",
       "25%       0.0102568883     0.0386259221     0.0000000000     0.0146211691   \n",
       "50%       0.0205137767     0.0591193344     0.0147001697     0.0273765000   \n",
       "75%       0.0390222305     0.1055044997     0.0361902015     0.0472020544   \n",
       "max       0.9999999404     1.0000000000     1.0000000000     1.0000000000   \n",
       "\n",
       "                   Joy          Sadness         Surprise            Trust  \\\n",
       "count 3,120.0000000000 3,120.0000000000 3,120.0000000000 3,120.0000000000   \n",
       "mean      0.1180894151     0.1094094813     0.0957049057     0.0974604413   \n",
       "std       0.1811063737     0.1672122926     0.1806580275     0.1728436798   \n",
       "min       0.0000000000     0.0000000000     0.0000000000     0.0000000000   \n",
       "25%       0.0332342461     0.0263262000     0.0130911404     0.0220476161   \n",
       "50%       0.0526462533     0.0504153557     0.0318445377     0.0353673287   \n",
       "75%       0.0934748799     0.0913505517     0.0642666277     0.0630328879   \n",
       "max       1.0000000000     1.0000000000     1.0000000000     1.0000000000   \n",
       "\n",
       "       Conditional Volatility  \n",
       "count        3,120.0000000000  \n",
       "mean             0.0627599508  \n",
       "std              0.1095687598  \n",
       "min              0.0000000000  \n",
       "25%              0.0140771582  \n",
       "50%              0.0270586554  \n",
       "75%              0.0569391027  \n",
       "max              1.0000000000  "
      ]
     },
     "execution_count": 21,
     "metadata": {},
     "output_type": "execute_result"
    }
   ],
   "source": [
    "train.describe()"
   ]
  },
  {
   "cell_type": "code",
   "execution_count": 22,
   "metadata": {},
   "outputs": [],
   "source": [
    "train = array(split(train.values, len(train)/30))"
   ]
  },
  {
   "cell_type": "code",
   "execution_count": 23,
   "metadata": {},
   "outputs": [],
   "source": [
    "test = array(split(test.values, len(test)/30))"
   ]
  },
  {
   "cell_type": "code",
   "execution_count": 13,
   "metadata": {},
   "outputs": [],
   "source": [
    "# scaler = MinMaxScaler()\n",
    "# for col in data_vol.columns :\n",
    "# # for i in range (0,train.shape[2]) :\n",
    "#     data_vol[[col]] = scaler.fit_transform(data_vol[[col]])\n",
    "# #     train[:,:, i] = scaler.fit_transform(train[:,:,i])"
   ]
  },
  {
   "cell_type": "code",
   "execution_count": 14,
   "metadata": {},
   "outputs": [],
   "source": [
    "def to_supervised(train, n_input, n_out=30):\n",
    "\t# flatten data\n",
    "\tdata = train.reshape((train.shape[0]*train.shape[1], train.shape[2]))\n",
    "\tX, y = list(), list()\n",
    "\tin_start = 0\n",
    "\tfor _ in range(len(data)):\n",
    "\t\tin_end = in_start + n_input\n",
    "\t\tout_end = in_end + n_out\n",
    "\t\tif out_end <= len(data):\n",
    "\t\t\tX.append(data[in_start:in_end, :])\n",
    "\t\t\ty.append(data[in_end:out_end, 8])\n",
    "\t\tin_start += 1\n",
    "\treturn array(X), array(y)"
   ]
  },
  {
   "cell_type": "code",
   "execution_count": 16,
   "metadata": {},
   "outputs": [],
   "source": [
    "def build_model(train, n_input):\n",
    "\ttrain_x, train_y = to_supervised(train, n_input)\n",
    "\tverbose, epochs, batch_size = 1, 55, 20\n",
    "\tn_timesteps, n_features, n_outputs = train_x.shape[1], train_x.shape[2], train_y.shape[1]\n",
    "\t# reshape output into [samples, timesteps, features]\n",
    "\ttrain_y = train_y.reshape((train_y.shape[0], train_y.shape[1], 1))\n",
    "    \n",
    "\t# define model\n",
    "\tmodel = Sequential()\n",
    "\tmodel.add(LSTM(200, activation='relu', input_shape=(n_timesteps, n_features)))\n",
    "\tmodel.add(RepeatVector(n_outputs))\n",
    "\tmodel.add(LSTM(200, activation='relu', return_sequences=True))\n",
    "\tmodel.add(TimeDistributed(Dense(100, activation='relu')))\n",
    "\tmodel.add(TimeDistributed(Dense(1)))\n",
    "\tmodel.compile(loss='mse', optimizer='adam')\n",
    "\tmodel.summary()\n",
    "    \n",
    "\t# fit network\n",
    "\tmodel.fit(train_x, train_y, epochs=epochs, batch_size=batch_size, verbose=verbose)\n",
    "\treturn model"
   ]
  },
  {
   "cell_type": "code",
   "execution_count": 17,
   "metadata": {
    "collapsed": true,
    "jupyter": {
     "outputs_hidden": true
    }
   },
   "outputs": [
    {
     "name": "stdout",
     "output_type": "stream",
     "text": [
      "Model: \"sequential_1\"\n",
      "_________________________________________________________________\n",
      "Layer (type)                 Output Shape              Param #   \n",
      "=================================================================\n",
      "lstm_1 (LSTM)                (None, 200)               168000    \n",
      "_________________________________________________________________\n",
      "repeat_vector_1 (RepeatVecto (None, 30, 200)           0         \n",
      "_________________________________________________________________\n",
      "lstm_2 (LSTM)                (None, 30, 200)           320800    \n",
      "_________________________________________________________________\n",
      "time_distributed_1 (TimeDist (None, 30, 100)           20100     \n",
      "_________________________________________________________________\n",
      "time_distributed_2 (TimeDist (None, 30, 1)             101       \n",
      "=================================================================\n",
      "Total params: 509,001\n",
      "Trainable params: 509,001\n",
      "Non-trainable params: 0\n",
      "_________________________________________________________________\n",
      "Epoch 1/55\n",
      "3061/3061 [==============================] - 52s 17ms/step - loss: 0.0061\n",
      "Epoch 2/55\n",
      "3061/3061 [==============================] - 45s 15ms/step - loss: 0.0051\n",
      "Epoch 3/55\n",
      "3061/3061 [==============================] - 47s 15ms/step - loss: 0.0048\n",
      "Epoch 4/55\n",
      "3061/3061 [==============================] - 46s 15ms/step - loss: 0.0044\n",
      "Epoch 5/55\n",
      "3061/3061 [==============================] - 46s 15ms/step - loss: 0.0046\n",
      "Epoch 6/55\n",
      "3061/3061 [==============================] - 47s 15ms/step - loss: 0.0044\n",
      "Epoch 7/55\n",
      "3061/3061 [==============================] - 47s 15ms/step - loss: 0.0042\n",
      "Epoch 8/55\n",
      "3061/3061 [==============================] - 47s 15ms/step - loss: 0.0041\n",
      "Epoch 9/55\n",
      "3061/3061 [==============================] - 47s 15ms/step - loss: 0.0038\n",
      "Epoch 10/55\n",
      "3061/3061 [==============================] - 49s 16ms/step - loss: 0.0038\n",
      "Epoch 11/55\n",
      "3061/3061 [==============================] - 48s 16ms/step - loss: 0.0045\n",
      "Epoch 12/55\n",
      "3061/3061 [==============================] - 44s 14ms/step - loss: 0.0039\n",
      "Epoch 13/55\n",
      "3061/3061 [==============================] - 46s 15ms/step - loss: 0.0036\n",
      "Epoch 14/55\n",
      "3061/3061 [==============================] - 45s 15ms/step - loss: 0.0036\n",
      "Epoch 15/55\n",
      "3061/3061 [==============================] - 45s 15ms/step - loss: 0.0028\n",
      "Epoch 16/55\n",
      "3061/3061 [==============================] - 48s 16ms/step - loss: 0.0028\n",
      "Epoch 17/55\n",
      "3061/3061 [==============================] - 47s 15ms/step - loss: 0.0027\n",
      "Epoch 18/55\n",
      "3061/3061 [==============================] - 47s 15ms/step - loss: 0.0023\n",
      "Epoch 19/55\n",
      "3061/3061 [==============================] - 49s 16ms/step - loss: 0.0025\n",
      "Epoch 20/55\n",
      "3061/3061 [==============================] - 44s 14ms/step - loss: 0.0025\n",
      "Epoch 21/55\n",
      "3061/3061 [==============================] - 50s 16ms/step - loss: 0.0027\n",
      "Epoch 22/55\n",
      "3061/3061 [==============================] - 45s 15ms/step - loss: 0.0024\n",
      "Epoch 23/55\n",
      "3061/3061 [==============================] - 46s 15ms/step - loss: 0.0025\n",
      "Epoch 24/55\n",
      "3061/3061 [==============================] - 47s 15ms/step - loss: 0.0021\n",
      "Epoch 25/55\n",
      "3061/3061 [==============================] - 44s 14ms/step - loss: 0.0018\n",
      "Epoch 26/55\n",
      "3061/3061 [==============================] - 46s 15ms/step - loss: 0.0027\n",
      "Epoch 27/55\n",
      "3061/3061 [==============================] - 49s 16ms/step - loss: 0.0019\n",
      "Epoch 28/55\n",
      "3061/3061 [==============================] - 47s 15ms/step - loss: 0.0015\n",
      "Epoch 29/55\n",
      "3061/3061 [==============================] - 47s 15ms/step - loss: 0.0051\n",
      "Epoch 30/55\n",
      "3061/3061 [==============================] - 47s 15ms/step - loss: 0.0033\n",
      "Epoch 31/55\n",
      "3061/3061 [==============================] - 49s 16ms/step - loss: 0.0028\n",
      "Epoch 32/55\n",
      "3061/3061 [==============================] - 45s 15ms/step - loss: 0.0025\n",
      "Epoch 33/55\n",
      "3061/3061 [==============================] - 48s 16ms/step - loss: 0.0020\n",
      "Epoch 34/55\n",
      "3061/3061 [==============================] - 50s 16ms/step - loss: 0.0027\n",
      "Epoch 35/55\n",
      "3061/3061 [==============================] - 48s 16ms/step - loss: 0.0024\n",
      "Epoch 36/55\n",
      "3061/3061 [==============================] - 49s 16ms/step - loss: 0.0021\n",
      "Epoch 37/55\n",
      "3061/3061 [==============================] - 49s 16ms/step - loss: 0.0019\n",
      "Epoch 38/55\n",
      "3061/3061 [==============================] - 46s 15ms/step - loss: 0.0017\n",
      "Epoch 39/55\n",
      "3061/3061 [==============================] - 47s 15ms/step - loss: 0.0019\n",
      "Epoch 40/55\n",
      "3061/3061 [==============================] - 46s 15ms/step - loss: 0.0015\n",
      "Epoch 41/55\n",
      "3061/3061 [==============================] - 47s 15ms/step - loss: 0.0012\n",
      "Epoch 42/55\n",
      "3061/3061 [==============================] - 48s 16ms/step - loss: 0.0013\n",
      "Epoch 43/55\n",
      "3061/3061 [==============================] - 46s 15ms/step - loss: 0.0016\n",
      "Epoch 44/55\n",
      "3061/3061 [==============================] - 47s 15ms/step - loss: 0.0017\n",
      "Epoch 45/55\n",
      "3061/3061 [==============================] - 60s 20ms/step - loss: 0.0011\n",
      "Epoch 46/55\n",
      "3061/3061 [==============================] - 46s 15ms/step - loss: 0.0011\n",
      "Epoch 47/55\n",
      "3061/3061 [==============================] - 47s 15ms/step - loss: 0.0013\n",
      "Epoch 48/55\n",
      "3061/3061 [==============================] - 46s 15ms/step - loss: 0.0010\n",
      "Epoch 49/55\n",
      "3061/3061 [==============================] - 48s 16ms/step - loss: 8.8478e-04\n",
      "Epoch 50/55\n",
      "3061/3061 [==============================] - 47s 15ms/step - loss: 8.1622e-04\n",
      "Epoch 51/55\n",
      "3061/3061 [==============================] - 47s 15ms/step - loss: 0.0020\n",
      "Epoch 52/55\n",
      "3061/3061 [==============================] - 46s 15ms/step - loss: 0.0030\n",
      "Epoch 53/55\n",
      "3061/3061 [==============================] - 44s 14ms/step - loss: 0.0019\n",
      "Epoch 54/55\n",
      "3061/3061 [==============================] - 47s 15ms/step - loss: 0.0011\n",
      "Epoch 55/55\n",
      "3061/3061 [==============================] - 48s 16ms/step - loss: 8.1523e-04\n",
      "model saved\n"
     ]
    }
   ],
   "source": [
    "n_input = 30 \n",
    "model = build_model(train, n_input) \n",
    "model.save( 'model6' + '.h5')\n",
    "print(\"model saved\")"
   ]
  },
  {
   "cell_type": "markdown",
   "metadata": {},
   "source": [
    "### Prediction and Evaluation"
   ]
  },
  {
   "cell_type": "code",
   "execution_count": 24,
   "metadata": {},
   "outputs": [],
   "source": [
    "from numpy import loadtxt\n",
    "from keras.models import load_model  \n",
    "from keras.utils.vis_utils import plot_model"
   ]
  },
  {
   "cell_type": "code",
   "execution_count": 25,
   "metadata": {},
   "outputs": [],
   "source": [
    "def forecast(model, history, n_input):\n",
    "\t# flatten data\n",
    "\tdata = array(history)\n",
    "\tdata = data.reshape((data.shape[0]*data.shape[1], data.shape[2]))\n",
    "\t# retrieve last observations for input data\n",
    "\tinput_x = data[-n_input:, :]\n",
    "\t# reshape into [1, n_input, n]\n",
    "\tinput_x = input_x.reshape((1, input_x.shape[0], input_x.shape[1]))\n",
    "\t# forecast the next week\n",
    "\tyhat = model.predict(input_x, verbose=1)\n",
    "\t# we only want the vector forecast\n",
    "\tyhat = yhat[0]\n",
    "\treturn yhat"
   ]
  },
  {
   "cell_type": "code",
   "execution_count": 49,
   "metadata": {},
   "outputs": [],
   "source": [
    "def evaluate_forecasts_new(actual, predicted):\n",
    "\tscores = list()\n",
    "\t# calculate an RMSE score for each day\n",
    "\tfor i in range(actual.shape[1]):\n",
    "\t\tmse = mean_squared_error(actual[:, i], predicted[:, i])\n",
    "\t\trmse = sqrt(mse)\n",
    "\t\t# store\n",
    "\t\tscores.append(rmse)\n",
    "        \n",
    "\t# calculate overall RMSE\n",
    "\ts = 0\n",
    "\tfor row in range(actual.shape[0]):\n",
    "\t\tfor col in range(actual.shape[1]):\n",
    "\t\t\ts += (actual[row, col] - predicted[row, col])**2\n",
    "\tscore = sqrt(s / (actual.shape[0] * actual.shape[1]))\n",
    "\treturn score, scores"
   ]
  },
  {
   "cell_type": "code",
   "execution_count": 31,
   "metadata": {},
   "outputs": [],
   "source": [
    "def evaluate_model_new(train, test, n_input):\n",
    "    \n",
    "\t# history is a list of weekly data\n",
    "\thistory = [x for x in train]\n",
    "    \n",
    "\t# walk-forward validation \n",
    "\tpredictions = list()\n",
    "    \n",
    "\tfor i in range(len(test)):\n",
    "\t\tyhat_sequence = forecast(model, history, n_input)\n",
    "# \t\tprint(type(yhat_sequence))\n",
    "# \t\tprint(yhat_sequence.shape) \n",
    "# \t\ty1 = scaler.inverse_transform(yhat_sequence)\n",
    "# \t\tprint(type(y1))\n",
    "# \t\tprint(y1.shape)    \n",
    "\t\tpredictions.append(yhat_sequence)\n",
    "\t\thistory.append(test[i, :])\n",
    "        \n",
    "\t# evaluate predictions days for each week\n",
    "\tpredictions = array(predictions)\n",
    "# \tprint(predictions.shape)  \n",
    "# \tpredictions = scaler.inverse_transform(predictions[0,:,:])\n",
    "\treturn predictions"
   ]
  },
  {
   "cell_type": "code",
   "execution_count": 32,
   "metadata": {},
   "outputs": [
    {
     "name": "stdout",
     "output_type": "stream",
     "text": [
      "1/1 [==============================] - 0s 18ms/step\n"
     ]
    }
   ],
   "source": [
    "preds = evaluate_model_new(train, test, 30)"
   ]
  },
  {
   "cell_type": "code",
   "execution_count": 37,
   "metadata": {},
   "outputs": [],
   "source": [
    "preds.shape\n",
    "predictions = yscaler.inverse_transform(preds[0,:, :])"
   ]
  },
  {
   "cell_type": "code",
   "execution_count": 58,
   "metadata": {},
   "outputs": [
    {
     "name": "stdout",
     "output_type": "stream",
     "text": [
      "(1, 30, 1)\n"
     ]
    }
   ],
   "source": [
    "predictions = predictions.reshape(1,-1,1)\n",
    "print(predictions.shape)"
   ]
  },
  {
   "cell_type": "code",
   "execution_count": 59,
   "metadata": {},
   "outputs": [],
   "source": [
    "score, scores = evaluate_forecasts_new(test[:, :, 8], predictions)"
   ]
  },
  {
   "cell_type": "code",
   "execution_count": 40,
   "metadata": {},
   "outputs": [],
   "source": [
    "def summarize_scores(name, score, scores):\n",
    "\ts_scores = ', '.join(['%.1f' % s for s in scores])\n",
    "\tprint('%s: [%.3f] %s' % (name, score, s_scores))"
   ]
  },
  {
   "cell_type": "code",
   "execution_count": 60,
   "metadata": {},
   "outputs": [
    {
     "name": "stdout",
     "output_type": "stream",
     "text": [
      "test: [2.334] 0.7, 0.4, 0.4, 0.1, 0.2, 0.3, 0.3, 0.4, 0.5, 0.5, 0.5, 0.6, 0.6, 0.6, 0.6, 0.6, 0.3, 0.4, 0.4, 0.4, 0.7, 0.5, 0.5, 0.4, 0.2, 0.6, 2.8, 2.5, 8.2, 8.7\n"
     ]
    }
   ],
   "source": [
    "summarize_scores('test', score, scores)"
   ]
  },
  {
   "cell_type": "code",
   "execution_count": 63,
   "metadata": {},
   "outputs": [
    {
     "data": {
      "image/png": "[encoded data removed]",
      "text/plain": [
       "<Figure size 432x288 with 1 Axes>"
      ]
     },
     "metadata": {
      "needs_background": "light"
     },
     "output_type": "display_data"
    }
   ],
   "source": [
    "days = [i for i in range (1,31, 1)]\n",
    "pyplot.plot(days, scores, marker='o', label='lstm rmse')\n",
    "pyplot.show()"
   ]
  },
  {
   "cell_type": "code",
   "execution_count": 71,
   "metadata": {},
   "outputs": [
    {
     "data": {
      "image/png": "[encoded data removed]",
      "text/plain": [
       "<Figure size 432x288 with 1 Axes>"
      ]
     },
     "metadata": {
      "needs_background": "light"
     },
     "output_type": "display_data"
    }
   ],
   "source": [
    "days = [i for i in range (1,31, 1)]\n",
    "pyplot.plot( days, predictions[0,:, 0], color = 'blue',linestyle='-' ,  marker='o', label='predicted values')\n",
    "pyplot.plot( days, test[0, :, 8], color = 'green', linestyle='-',  marker='o', label= 'actual values')\n",
    "pyplot.show()"
   ]
  },
  {
   "cell_type": "code",
   "execution_count": 66,
   "metadata": {},
   "outputs": [
    {
     "data": {
      "text/plain": [
       "(104, 30, 9)"
      ]
     },
     "execution_count": 66,
     "metadata": {},
     "output_type": "execute_result"
    }
   ],
   "source": [
    "train.shape"
   ]
  },
  {
   "cell_type": "code",
   "execution_count": 70,
   "metadata": {},
   "outputs": [
    {
     "data": {
      "text/plain": [
       "<matplotlib.axes._subplots.AxesSubplot at 0x7fba044f7a50>"
      ]
     },
     "execution_count": 70,
     "metadata": {},
     "output_type": "execute_result"
    },
    {
     "data": {
      "image/png": "[encoded data removed]",
      "text/plain": [
       "<Figure size 432x288 with 1 Axes>"
      ]
     },
     "metadata": {
      "needs_background": "light"
     },
     "output_type": "display_data"
    },
    {
     "data": {
      "image/png": "[encoded data removed]",
      "text/plain": [
       "<Figure size 432x288 with 1 Axes>"
      ]
     },
     "metadata": {
      "needs_background": "light"
     },
     "output_type": "display_data"
    },
    {
     "data": {
      "image/png": "[encoded data removed]",
      "text/plain": [
       "<Figure size 432x288 with 1 Axes>"
      ]
     },
     "metadata": {
      "needs_background": "light"
     },
     "output_type": "display_data"
    },
    {
     "data": {
      "image/png": "[encoded data removed]",
      "text/plain": [
       "<Figure size 432x288 with 1 Axes>"
      ]
     },
     "metadata": {
      "needs_background": "light"
     },
     "output_type": "display_data"
    },
    {
     "data": {
      "image/png": "[encoded data removed]",
      "text/plain": [
       "<Figure size 432x288 with 1 Axes>"
      ]
     },
     "metadata": {
      "needs_background": "light"
     },
     "output_type": "display_data"
    }
   ],
   "source": [
    "data_vol.plot(y='Conditional Volatility', use_index=True)\n",
    "data.plot(y='Close_nifty', use_index=True)\n",
    "data.plot(y='Close_sensex', use_index=True)\n",
    "data.plot(y='% change_nifty', use_index=True)\n",
    "data.plot(y='% change_sensex', use_index=True)"
   ]
  },
  {
   "cell_type": "code",
   "execution_count": null,
   "metadata": {},
   "outputs": [],
   "source": []
  },
  {
   "cell_type": "code",
   "execution_count": 44,
   "metadata": {},
   "outputs": [
    {
     "data": {
      "text/plain": [
       "array([[ 0.5828008,  1.067434 ,  0.9941536,  1.321825 ,  1.272688 ,\n",
       "         1.184532 ,  1.112607 ,  1.046578 ,  0.9901003,  0.9670153,\n",
       "         0.9044366,  0.8639677,  0.8271698,  0.7853872,  0.8083171,\n",
       "         0.7664459,  1.05643  ,  0.9836895,  1.000869 ,  0.9418073,\n",
       "         2.046621 ,  1.901354 ,  1.865867 ,  1.749912 ,  1.612766 ,\n",
       "         1.967009 ,  4.183232 ,  3.838745 ,  9.601299 , 10.04322  ]],\n",
       "      dtype=float32)"
      ]
     },
     "execution_count": 44,
     "metadata": {},
     "output_type": "execute_result"
    }
   ],
   "source": [
    "test[:,:,8]"
   ]
  },
  {
   "cell_type": "code",
   "execution_count": 43,
   "metadata": {},
   "outputs": [
    {
     "name": "stdout",
     "output_type": "stream",
     "text": [
      "[[[ 35.487     121.113      11.823      65.804      95.448\n",
      "    43.302      24.72      332.051       0.5828008]\n",
      "  [ 27.569      78.366       7.191      36.028      61.85\n",
      "    32.044      11.961     144.066       1.067434 ]\n",
      "  [ 60.127     145.614      23.976      98.473     103.695\n",
      "    62.826      32.096     257.784       0.9941536]\n",
      "  [ 60.559     155.768      22.649      85.864     108.504\n",
      "    54.643      47.478     246.732       1.321825 ]\n",
      "  [ 46.697     131.154      19.502      72.626      94.742\n",
      "    54.515      32.785     240.344       1.272688 ]\n",
      "  [ 49.045     120.212      18.231      83.721      91.971\n",
      "    53.594      29.202     220.311       1.184532 ]\n",
      "  [ 58.876     110.035      18.496      85.32       83.411\n",
      "    56.152      29.54      187.62        1.112607 ]\n",
      "  [ 45.485     140.619      12.259      65.563     118.089\n",
      "    46.624      31.083     230.138       1.046578 ]\n",
      "  [ 33.251      99.1        12.121      57.83       69.31\n",
      "    40.299      23.898     164.393       0.9901003]\n",
      "  [ 61.056     123.235      19.552      97.824     115.243\n",
      "    64.747      36.937     228.155       0.9670153]\n",
      "  [ 47.726     119.868      18.295      75.059      75.029\n",
      "    55.248      29.922     183.193       0.9044366]\n",
      "  [ 56.61      126.253      22.137      84.143      83.61\n",
      "    55.501      28.889     212.163       0.8639677]\n",
      "  [ 39.13       99.968      12.286      56.985      67.525\n",
      "    38.607      17.766     145.14        0.8271698]\n",
      "  [ 40.994     104.341      17.094      69.23       73.295\n",
      "    43.506      33.122     181.073       0.7853872]\n",
      "  [ 53.125     125.274      17.24       86.725      82.198\n",
      "    56.265      31.801     201.715       0.8083171]\n",
      "  [ 53.514     143.391      19.679      88.897      99.66\n",
      "    58.454      52.561     219.99        0.7664459]\n",
      "  [ 68.545     129.624      22.135      89.291      98.967\n",
      "    58.145      43.481     224.568       1.05643  ]\n",
      "  [ 35.516      91.425       7.495      60.606      62.444\n",
      "    39.686      17.122     131.518       0.9836895]\n",
      "  [ 68.723     104.83       23.54      110.893      71.519\n",
      "    83.343      32.78      190.741       1.000869 ]\n",
      "  [ 62.541     110.329      23.209     106.451      75.672\n",
      "    80.781      32.944     179.279       0.9418073]\n",
      "  [ 61.825     132.667      20.441      95.546      91.638\n",
      "    69.986      33.568     199.441       2.046621 ]\n",
      "  [ 52.042     135.931      20.911      81.007     103.941\n",
      "    47.609      39.451     211.244       1.901354 ]\n",
      "  [ 56.444     125.467      23.061      99.194      85.128\n",
      "    62.92       34.654     188.963       1.865867 ]\n",
      "  [ 39.554      95.14       16.291      64.284      64.88\n",
      "    40.869      21.257     171.951       1.749912 ]\n",
      "  [ 64.977     109.192      21.562     116.844      66.71\n",
      "    67.78       34.306     219.88        1.612766 ]\n",
      "  [ 48.762     106.436      24.315     112.866      67.852\n",
      "    63.924      29.705     191.412       1.967009 ]\n",
      "  [ 50.355     116.037      29.633      89.952      82.44\n",
      "    61.669      33.729     207.725       4.183232 ]\n",
      "  [ 50.973      81.42        9.097     109.188      56.389\n",
      "    82.714      19.99      155.237       3.838745 ]\n",
      "  [ 43.692      88.327      13.222     108.808      70.955\n",
      "    77.816      31.187     159.192       9.601299 ]\n",
      "  [ 34.885      72.628      14.606      74.015      40.511\n",
      "    45.259      23.528     125.67       10.04322  ]]]\n"
     ]
    }
   ],
   "source": [
    "print(test)"
   ]
  },
  {
   "cell_type": "code",
   "execution_count": 27,
   "metadata": {},
   "outputs": [],
   "source": [
    "model = load_model('model6.h5')"
   ]
  },
  {
   "cell_type": "code",
   "execution_count": 28,
   "metadata": {},
   "outputs": [
    {
     "data": {
      "image/png": "[encoded data removed]",
      "text/plain": [
       "<IPython.core.display.Image object>"
      ]
     },
     "execution_count": 28,
     "metadata": {},
     "output_type": "execute_result"
    }
   ],
   "source": [
    "dot_img_file = 'model_5.png'\n",
    "plot_model(model, to_file=dot_img_file, show_shapes=True, show_layer_names=True)"
   ]
  },
  {
   "cell_type": "code",
   "execution_count": 76,
   "metadata": {
    "collapsed": true,
    "jupyter": {
     "outputs_hidden": true
    }
   },
   "outputs": [
    {
     "ename": "ValueError",
     "evalue": "non-broadcastable output operand with shape (30,1) doesn't match the broadcast shape (30,9)",
     "output_type": "error",
     "traceback": [
      "\u001b[0;31m---------------------------------------------------------------------------\u001b[0m",
      "\u001b[0;31mValueError\u001b[0m                                Traceback (most recent call last)",
      "\u001b[0;32m<ipython-input-76-a6faeae3f5aa>\u001b[0m in \u001b[0;36m<module>\u001b[0;34m\u001b[0m\n\u001b[1;32m      1\u001b[0m \u001b[0;31m# invPred = scaler.inverse_transform(preds[0,:,0].reshape(-1, 1) )\u001b[0m\u001b[0;34m\u001b[0m\u001b[0;34m\u001b[0m\u001b[0;34m\u001b[0m\u001b[0m\n\u001b[0;32m----> 2\u001b[0;31m \u001b[0mprint\u001b[0m\u001b[0;34m(\u001b[0m\u001b[0mscaler\u001b[0m\u001b[0;34m.\u001b[0m\u001b[0minverse_transform\u001b[0m\u001b[0;34m(\u001b[0m\u001b[0mnp\u001b[0m\u001b[0;34m.\u001b[0m\u001b[0marray\u001b[0m\u001b[0;34m(\u001b[0m\u001b[0mpreds\u001b[0m\u001b[0;34m[\u001b[0m\u001b[0;34m:\u001b[0m\u001b[0;34m,\u001b[0m\u001b[0;34m:\u001b[0m\u001b[0;34m,\u001b[0m\u001b[0;36m0\u001b[0m\u001b[0;34m]\u001b[0m\u001b[0;34m)\u001b[0m\u001b[0;34m.\u001b[0m\u001b[0mreshape\u001b[0m\u001b[0;34m(\u001b[0m\u001b[0;34m-\u001b[0m\u001b[0;36m1\u001b[0m\u001b[0;34m,\u001b[0m \u001b[0;36m1\u001b[0m\u001b[0;34m)\u001b[0m\u001b[0;34m)\u001b[0m\u001b[0;34m)\u001b[0m\u001b[0;34m\u001b[0m\u001b[0;34m\u001b[0m\u001b[0m\n\u001b[0m",
      "\u001b[0;32m/opt/conda/lib/python3.7/site-packages/sklearn/preprocessing/_data.py\u001b[0m in \u001b[0;36minverse_transform\u001b[0;34m(self, X)\u001b[0m\n\u001b[1;32m    434\u001b[0m                         force_all_finite=\"allow-nan\")\n\u001b[1;32m    435\u001b[0m \u001b[0;34m\u001b[0m\u001b[0m\n\u001b[0;32m--> 436\u001b[0;31m         \u001b[0mX\u001b[0m \u001b[0;34m-=\u001b[0m \u001b[0mself\u001b[0m\u001b[0;34m.\u001b[0m\u001b[0mmin_\u001b[0m\u001b[0;34m\u001b[0m\u001b[0;34m\u001b[0m\u001b[0m\n\u001b[0m\u001b[1;32m    437\u001b[0m         \u001b[0mX\u001b[0m \u001b[0;34m/=\u001b[0m \u001b[0mself\u001b[0m\u001b[0;34m.\u001b[0m\u001b[0mscale_\u001b[0m\u001b[0;34m\u001b[0m\u001b[0;34m\u001b[0m\u001b[0m\n\u001b[1;32m    438\u001b[0m         \u001b[0;32mreturn\u001b[0m \u001b[0mX\u001b[0m\u001b[0;34m\u001b[0m\u001b[0;34m\u001b[0m\u001b[0m\n",
      "\u001b[0;31mValueError\u001b[0m: non-broadcastable output operand with shape (30,1) doesn't match the broadcast shape (30,9)"
     ]
    }
   ],
   "source": [
    "# invPred = scaler.inverse_transform(preds[0,:,0].reshape(-1, 1) )\n",
    "print(scaler.inverse_transform(np.array(preds[:,:,0]).reshape(-1, 1)))"
   ]
  },
  {
   "cell_type": "code",
   "execution_count": 79,
   "metadata": {},
   "outputs": [
    {
     "name": "stdout",
     "output_type": "stream",
     "text": [
      "test: [0.012] 0.0, 0.0, 0.0, 0.0, 0.0, 0.0, 0.0, 0.0, 0.0, 0.0, 0.0, 0.0, 0.0, 0.0, 0.0, 0.0, 0.0, 0.0, 0.0, 0.0, 0.0, 0.0, 0.0, 0.0, 0.0, 0.0, 0.0, 0.0, 0.0, 0.0\n"
     ]
    }
   ],
   "source": [
    "summarize_scores('test', score, scores)"
   ]
  },
  {
   "cell_type": "raw",
   "metadata": {},
   "source": [
    "ReLu w/o scaled data gives Nan error while training\n",
    "Solutions:\n",
    "    https://stackoverflow.com/questions/37232782/nan-loss-when-training-regression-network\n",
    "    softmax\n",
    "    scaling\n"
   ]
  },
  {
   "cell_type": "markdown",
   "metadata": {},
   "source": [
    "If your time series is trending up or down, estimating these expected values may be difficult and normalization may not be the best method to use on your problem.\n",
    "\n"
   ]
  },
  {
   "cell_type": "code",
   "execution_count": null,
   "metadata": {},
   "outputs": [],
   "source": []
  },
  {
   "cell_type": "code",
   "execution_count": null,
   "metadata": {},
   "outputs": [],
   "source": []
  }
 ],
 "metadata": {
  "environment": {
   "name": "tf2-gpu.2-1.m47",
   "type": "gcloud",
   "uri": "gcr.io/deeplearning-platform-release/tf2-gpu.2-1:m47"
  },
  "kernelspec": {
   "display_name": "Python 3",
   "language": "python",
   "name": "python3"
  },
  "language_info": {
   "codemirror_mode": {
    "name": "ipython",
    "version": 3
   },
   "file_extension": ".py",
   "mimetype": "text/x-python",
   "name": "python",
   "nbconvert_exporter": "python",
   "pygments_lexer": "ipython3",
   "version": "3.7.6"
  }
 },
 "nbformat": 4,
 "nbformat_minor": 4
}
